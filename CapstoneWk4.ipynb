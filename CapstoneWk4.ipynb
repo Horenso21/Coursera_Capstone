{
 "cells": [
  {
   "cell_type": "markdown",
   "metadata": {},
   "source": [
    "# Opening Restaurants in Tacoma #"
   ]
  },
  {
   "cell_type": "markdown",
   "metadata": {},
   "source": [
    "## Introduction ##\n",
    "From 2019 – 2020 the ‘hottest’ real estate market in the United States has been Tacoma, WA <sub>1</sub>. Homes were selling the fastest in the nation, with half the homes selling in under 23 days. Also, the market in Tacoma was extremely competitive (/#/3 in the nation) with many homes selling for above list price. Although research has not been identified a direct cause, realtors suggest that the rising prices in Seattle combined with limited availability have led to this ‘hot’ market. With the influx of new residents, the restaurant industry has a chance to capitalize on a growing population. However, one cannot just open any restaurant in any location. By using the Foursquare API, the current research project will help to provide restauranteurs with the information needed to make a decision on both restaurant type and location."
   ]
  },
  {
   "cell_type": "markdown",
   "metadata": {},
   "source": [
    "## Business Problem ##\n",
    "As restaurant owner, it would behoove an individual to identify certain trends in the Tacoma area before opening a new restaurant. Two primary questions arise. First, what are the most common restaurants in the Tacoma area? Second, are there differences in the types of restaurants found in Tacoma compared to Seattle.  \n",
    "\n",
    "By identifying the most common restaurants in Tacoma, an owner could have confidence that a certain restaurant type should be successful in the area. However, it would become important for the owner to know where to open this restaurant. Therefore, one would need to find locations in which there is a lack of the most popular restaurant types. This would allow for less competition in the area, which should give a new restaurant a better opportunity to flourish.  \n",
    "\n",
    "Alternatively, a restaurant owner could be most interested in opening a restaurant in a popular area of Tacoma (e.g. downtown). In order to accomplish this task without having too much direct competition, one would want a unique restaurant type. Although different options are available to identify a new restaurant type, one simple solution would be to compare restaurants in the Seattle area with those in the Tacoma area. Because realtors propose that former Seattle residents are moving to Tacoma, it would make sense that those residents would have similar interests to current Seattle residents. Therefore, a restaurant owner could feel safer in opening a new restaurant type because of the prior success in an area with a similar population."
   ]
  },
  {
   "cell_type": "markdown",
   "metadata": {},
   "source": [
    "## Data ##\n",
    "The data will primarily come from three sources. First, the trends in the housing market will be visualized using data obtained from Redfin, a national real estate brokerage in the United States. This visualization will compare both median prices between Seattle and Tacoma and median days on the market. This will help to establish the assumptions about Tacoma becoming a popular destination for new home buyers.  \n",
    "\n",
    "Next, ‘unitedstateszipcodes.com’ will be used to obtain the zip codes of Tacoma and Seattle and the surrounding areas. Because there are many small neighborhoods in each area, the use of zip codes allows for the identification of an established boundary between areas. Once obtaining zip code data, latitude and longitude will be obtained using the OpenStreetMap data.  \n",
    "\n",
    "Lastly, the Foursquare API will be used to obtain the most common venues surrounding each zip code. At this point, the data will be initially examined to identify the most common restaurant types in the area. After identifying the most common restaurant types, the data will be used to produce the density of these restaurants in each area.\n"
   ]
  },
  {
   "cell_type": "code",
   "execution_count": null,
   "metadata": {},
   "outputs": [],
   "source": []
  }
 ],
 "metadata": {
  "kernelspec": {
   "display_name": "Python 3",
   "language": "python",
   "name": "python3"
  },
  "language_info": {
   "codemirror_mode": {
    "name": "ipython",
    "version": 3
   },
   "file_extension": ".py",
   "mimetype": "text/x-python",
   "name": "python",
   "nbconvert_exporter": "python",
   "pygments_lexer": "ipython3",
   "version": "3.7.6"
  }
 },
 "nbformat": 4,
 "nbformat_minor": 4
}
